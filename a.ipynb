{
 "cells": [
  {
   "cell_type": "code",
   "execution_count": null,
   "metadata": {},
   "outputs": [],
   "source": [
    "# Import  library\n",
    "import pandas as pd\n",
    "import numpy as np\n",
    "import yfinance as yf\n",
    "import datetime\n",
    "from GoogleNews import GoogleNews\n",
    "googlenews = GoogleNews()\n"
   ]
  },
  {
   "cell_type": "code",
   "execution_count": null,
   "metadata": {},
   "outputs": [],
   "source": [
    "\n",
    "\n",
    "# Set the start and end dates\n",
    "start_date = \"2021-01-01\"\n",
    "end_date = \"2023-12-02\"\n",
    "\n",
    "# Create an empty DataFrame to store all the data\n",
    "df = pd.DataFrame()\n",
    "\n",
    "# For each symbol, retrieve the price data\n",
    "symbols = [\"GC=F\", \"CL=F\", \"DXY\"]\n",
    "\n",
    "for symbol in symbols:\n",
    "    # try:\n",
    "    print(symbol, \" ------ ------   -------   ---------   ---------\")\n",
    "    stock = yf.Ticker(symbol).history(start=\"2021-01-01\", end=\"2023-08-31\", interval=\"1d\")\n",
    "    print(stock)\n",
    "    # Add price features to the DataFrame\n",
    "    for feature in [\"Close\", \"Open\", \"High\", \"Low\", \"Volume\"]:\n",
    "        stock[feature] = stock[feature].fillna(np.nan)\n",
    "\n",
    "    # Concatenate the price data of each symbol to the DataFrame\n",
    "    df = pd.concat([df, stock], ignore_index=True)\n",
    "    # except:\n",
    "    #     pass\n",
    "# Add the relevant columns to the DataFrame\n",
    "df[\"date\"] = pd.to_datetime(df.index)\n",
    "df[\"symbol\"] = symbol\n",
    "\n",
    "# Move the date and symbol columns to the beginning of the DataFrame\n",
    "df = df[['date', 'symbol', 'Close', 'Open', 'High', 'Low', 'Volume']]\n",
    "# Print the DataFrame\n",
    "print(df.to_string())\n"
   ]
  },
  {
   "cell_type": "code",
   "execution_count": null,
   "metadata": {},
   "outputs": [
    {
     "name": "stdout",
     "output_type": "stream",
     "text": [
      "                                               title          media  \\\n",
      "0  US Dollar Reinvigorated, Investors Think Rate ...  Forex Factory   \n",
      "1  US Dollar Flies as US Yields Spring Back to Li...        DailyFX   \n",
      "2             Mexican Peso plunges against US Dollar       FXStreet   \n",
      "3  US dollar strengthens amid sour market mood an...       FXStreet   \n",
      "4    The 1964 Morgan Dollar Hubs : A Design Analysis       CoinWeek   \n",
      "\n",
      "         date                   datetime desc  \\\n",
      "0  2 mins ago 2023-12-04 22:23:15.694267        \n",
      "1  5 mins ago 2023-12-04 22:20:15.697260        \n",
      "2  1 mins ago 2023-12-04 22:24:15.699263        \n",
      "3  9 mins ago 2023-12-04 22:16:15.702264        \n",
      "4  1 hour ago 2023-12-04 21:25:15.718265        \n",
      "\n",
      "                                                link  \\\n",
      "0  https://www.forexfactory.com/news/1255695-us-d...   \n",
      "1  https://www.dailyfx.com/news/forex-usd-dollar-...   \n",
      "2  https://www.fxstreet.com/news/mexican-peso-wea...   \n",
      "3  https://www.fxstreet.com/news/us-dollar-streng...   \n",
      "4  https://coinweek.com/1964-morgan-dollar-hub-de...   \n",
      "\n",
      "                                                 img  \n",
      "0  data:image/gif;base64,R0lGODlhAQABAIAAAP//////...  \n",
      "1  data:image/gif;base64,R0lGODlhAQABAIAAAP//////...  \n",
      "2  data:image/gif;base64,R0lGODlhAQABAIAAAP//////...  \n",
      "3  data:image/gif;base64,R0lGODlhAQABAIAAAP//////...  \n",
      "4  data:image/gif;base64,R0lGODlhAQABAIAAAP//////...  \n"
     ]
    }
   ],
   "source": [
    "# Search for news related to dollar\n",
    "googlenews = GoogleNews(start = \"2021-01-01\",end = \"2023-12-02\")\n",
    "googlenews.search('dollar')\n",
    "result = googlenews.result()\n",
    "df = pd.DataFrame(result)\n",
    "print(df.head())"
   ]
  },
  {
   "cell_type": "code",
   "execution_count": null,
   "metadata": {},
   "outputs": [],
   "source": [
    "\n",
    "# Search for news  related to gold\n",
    "googlenews = GoogleNews(start = start_date ,end = end_date)\n",
    "googlenews.search('gold')\n",
    "result = googlenews.result()\n",
    "df = pd.DataFrame(result)\n",
    "print(df.head())\n",
    "\n"
   ]
  },
  {
   "cell_type": "code",
   "execution_count": null,
   "metadata": {},
   "outputs": [],
   "source": [
    "# Search for news related to crude oil\n",
    "googlenews = GoogleNews(start = \"2021-01-01\",end = \"2023-12-02\")\n",
    "googlenews.search('crude oil')\n",
    "result = googlenews.result()\n",
    "df = pd.DataFrame(result)\n",
    "print(df.head())"
   ]
  },
  {
   "cell_type": "code",
   "execution_count": null,
   "metadata": {},
   "outputs": [],
   "source": [
    "# Search for news related to dollar\n",
    "googlenews = GoogleNews(start = \"2021-01-01\",end = \"2023-12-02\")\n",
    "googlenews.search('dollar')\n",
    "result = googlenews.result()\n",
    "df = pd.DataFrame(result)\n",
    "print(df.head())"
   ]
  }
 ],
 "metadata": {
  "language_info": {
   "name": "python"
  },
  "orig_nbformat": 4
 },
 "nbformat": 4,
 "nbformat_minor": 2
}
